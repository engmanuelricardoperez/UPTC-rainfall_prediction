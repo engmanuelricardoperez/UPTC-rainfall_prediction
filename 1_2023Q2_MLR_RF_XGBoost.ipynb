{
  "cells": [
    {
      "cell_type": "markdown",
      "metadata": {
        "id": "view-in-github",
        "colab_type": "text"
      },
      "source": [
        "<a href=\"https://colab.research.google.com/github/engmanuelricardoperez/UPTC-rainfall_prediction/blob/main/1_2023Q2_MLR_RF_XGBoost.ipynb\" target=\"_parent\"><img src=\"https://colab.research.google.com/assets/colab-badge.svg\" alt=\"Open In Colab\"/></a>"
      ]
    },
    {
      "cell_type": "markdown",
      "metadata": {
        "id": "5FhXBAF-Nv5f"
      },
      "source": [
        "# 1-2023Q2 - Monthly Rainfall Prediction Using Machine Learning Techniques: A Comparative Study of MLR, RF and XGBoost GD"
      ]
    },
    {
      "cell_type": "markdown",
      "metadata": {
        "id": "tQpWr-x8ODKQ"
      },
      "source": [
        "Presented by:\n",
        "\n",
        "Manuel Ricardo Perez manuelricardo.perez@uptc.edu.co"
      ]
    },
    {
      "cell_type": "markdown",
      "metadata": {
        "id": "hnaxaKCnOJnf"
      },
      "source": [
        "# 1. Load Data"
      ]
    },
    {
      "cell_type": "code",
      "execution_count": 142,
      "metadata": {
        "id": "CYGa2WYNP0JG"
      },
      "outputs": [],
      "source": [
        "import pandas as pd"
      ]
    },
    {
      "cell_type": "code",
      "execution_count": 143,
      "metadata": {
        "colab": {
          "base_uri": "https://localhost:8080/"
        },
        "id": "tuQFVrnoyr60",
        "outputId": "42fef786-7ab7-4d0a-869b-7bc8830b735f"
      },
      "outputs": [
        {
          "output_type": "stream",
          "name": "stdout",
          "text": [
            "Drive already mounted at /content/drive; to attempt to forcibly remount, call drive.mount(\"/content/drive\", force_remount=True).\n"
          ]
        }
      ],
      "source": [
        "from google.colab import drive\n",
        "drive.mount('/content/drive')"
      ]
    },
    {
      "cell_type": "code",
      "execution_count": 144,
      "metadata": {
        "id": "ychm01y6PiJa"
      },
      "outputs": [],
      "source": [
        "import io\n",
        "wind_speed = pd.read_csv('/content/drive/MyDrive/phd/deployment proyect/phd/Rainfall Prediction UPTC/Data/Stations Boyacá 2022/datos/velocidad_viento.csv')\n",
        "\n",
        "precipitation = pd.read_csv('/content/drive/MyDrive/phd/deployment proyect/phd/Rainfall Prediction UPTC/Data/Stations Boyacá 2022/datos/precipitacion.csv')\n",
        "precipitation_open_data = pd.read_csv('/content/drive/MyDrive/phd/deployment proyect/phd/Rainfall Prediction UPTC/Data/Stations Boyacá 2022/datos/precipitaciones.csv')\n",
        "humidity = pd.read_csv('/content/drive/MyDrive/phd/deployment proyect/phd/Rainfall Prediction UPTC/Data/Stations Boyacá 2022/datos/humedad.csv')\n",
        "temmin = pd.read_csv('/content/drive/MyDrive/phd/deployment proyect/phd/Rainfall Prediction UPTC/Data/Stations Boyacá 2022/datos/temmin.csv')\n",
        "temmax = pd.read_csv('/content/drive/MyDrive/phd/deployment proyect/phd/Rainfall Prediction UPTC/Data/Stations Boyacá 2022/datos/temmax.csv')\n",
        "\n",
        "sun2001 = pd.read_csv('/content/drive/MyDrive/phd/deployment proyect/phd/Rainfall Prediction UPTC/Data/Stations Boyacá 2022/datos/sol2001.csv')\n",
        "sun2002 = pd.read_csv('/content/drive/MyDrive/phd/deployment proyect/phd/Rainfall Prediction UPTC/Data/Stations Boyacá 2022/datos/sol2002.csv')\n",
        "sun2003 = pd.read_csv('/content/drive/MyDrive/phd/deployment proyect/phd/Rainfall Prediction UPTC/Data/Stations Boyacá 2022/datos/sol2003.csv')\n",
        "sun2004 = pd.read_csv('/content/drive/MyDrive/phd/deployment proyect/phd/Rainfall Prediction UPTC/Data/Stations Boyacá 2022/datos/sol2004.csv')\n",
        "sun2005 = pd.read_csv('/content/drive/MyDrive/phd/deployment proyect/phd/Rainfall Prediction UPTC/Data/Stations Boyacá 2022/datos/sol2005.csv')\n",
        "sun2006 = pd.read_csv('/content/drive/MyDrive/phd/deployment proyect/phd/Rainfall Prediction UPTC/Data/Stations Boyacá 2022/datos/sol2006.csv')\n",
        "sun2007 = pd.read_csv('/content/drive/MyDrive/phd/deployment proyect/phd/Rainfall Prediction UPTC/Data/Stations Boyacá 2022/datos/sol2007.csv')\n",
        "sun2008 = pd.read_csv('/content/drive/MyDrive/phd/deployment proyect/phd/Rainfall Prediction UPTC/Data/Stations Boyacá 2022/datos/sol2008.csv')\n",
        "sun2009 = pd.read_csv('/content/drive/MyDrive/phd/deployment proyect/phd/Rainfall Prediction UPTC/Data/Stations Boyacá 2022/datos/sol2009.csv')\n",
        "sun2010 = pd.read_csv('/content/drive/MyDrive/phd/deployment proyect/phd/Rainfall Prediction UPTC/Data/Stations Boyacá 2022/datos/sol2010.csv')\n",
        "sun2011 = pd.read_csv('/content/drive/MyDrive/phd/deployment proyect/phd/Rainfall Prediction UPTC/Data/Stations Boyacá 2022/datos/sol2011.csv')\n",
        "sun2012 = pd.read_csv('/content/drive/MyDrive/phd/deployment proyect/phd/Rainfall Prediction UPTC/Data/Stations Boyacá 2022/datos/sol2012.csv')\n",
        "sun2013 = pd.read_csv('/content/drive/MyDrive/phd/deployment proyect/phd/Rainfall Prediction UPTC/Data/Stations Boyacá 2022/datos/sol2013.csv')\n",
        "sun2014 = pd.read_csv('/content/drive/MyDrive/phd/deployment proyect/phd/Rainfall Prediction UPTC/Data/Stations Boyacá 2022/datos/sol2014.csv')\n",
        "sun2015 = pd.read_csv('/content/drive/MyDrive/phd/deployment proyect/phd/Rainfall Prediction UPTC/Data/Stations Boyacá 2022/datos/sol2015.csv')\n",
        "sun2016 = pd.read_csv('/content/drive/MyDrive/phd/deployment proyect/phd/Rainfall Prediction UPTC/Data/Stations Boyacá 2022/datos/sol2016.csv')\n",
        "sun2017 = pd.read_csv('/content/drive/MyDrive/phd/deployment proyect/phd/Rainfall Prediction UPTC/Data/Stations Boyacá 2022/datos/sol2017.csv')\n",
        "sun2018 = pd.read_csv('/content/drive/MyDrive/phd/deployment proyect/phd/Rainfall Prediction UPTC/Data/Stations Boyacá 2022/datos/sol2018.csv')\n",
        "sun2019 = pd.read_csv('/content/drive/MyDrive/phd/deployment proyect/phd/Rainfall Prediction UPTC/Data/Stations Boyacá 2022/datos/sol2019.csv')\n",
        "sun2020 = pd.read_csv('/content/drive/MyDrive/phd/deployment proyect/phd/Rainfall Prediction UPTC/Data/Stations Boyacá 2022/datos/sol2020.csv')\n",
        "sun2021 = pd.read_csv('/content/drive/MyDrive/phd/deployment proyect/phd/Rainfall Prediction UPTC/Data/Stations Boyacá 2022/datos/sol2021.csv')\n",
        "\n",
        "evaporation = pd.read_csv('/content/drive/MyDrive/phd/deployment proyect/phd/Rainfall Prediction UPTC/Data/Stations Boyacá 2022/datos/evaporacion.csv')\n"
      ]
    },
    {
      "cell_type": "markdown",
      "metadata": {
        "id": "CoNkpESFscBg"
      },
      "source": [
        "# Data Porccessing"
      ]
    },
    {
      "cell_type": "markdown",
      "metadata": {
        "id": "LQ5uSX62stZ_"
      },
      "source": [
        "## Solar"
      ]
    },
    {
      "cell_type": "code",
      "execution_count": 145,
      "metadata": {
        "id": "GDo9ky5UR8IQ"
      },
      "outputs": [],
      "source": [
        "sun_frames = [sun2001, sun2002, sun2003, sun2004, sun2005, sun2006, sun2007, sun2008, sun2009, sun2010, sun2011, sun2012, sun2013, sun2014, sun2015, sun2016, sun2017, sun2018, sun2019, sun2020, sun2021]\n",
        "sun = pd.concat(sun_frames)"
      ]
    },
    {
      "cell_type": "code",
      "execution_count": 146,
      "metadata": {
        "id": "CtXjXsyPYa8l"
      },
      "outputs": [],
      "source": [
        "sun['Date'] = pd.to_datetime(sun['Fecha']).dt.date\n",
        "sun['Time'] = pd.to_datetime(sun['Fecha']).dt.time"
      ]
    },
    {
      "cell_type": "code",
      "execution_count": 147,
      "metadata": {
        "id": "C8GXqwC4Y6ho"
      },
      "outputs": [],
      "source": [
        "sun = sun.groupby(['Date']).mean('Valor')"
      ]
    },
    {
      "cell_type": "code",
      "execution_count": 148,
      "metadata": {
        "id": "t8wMBGd9SKsw"
      },
      "outputs": [],
      "source": [
        "sun['SunValue'] = sun['Valor']"
      ]
    },
    {
      "cell_type": "markdown",
      "metadata": {
        "id": "EOMofK7Lsyur"
      },
      "source": [
        "## Temperature min\n"
      ]
    },
    {
      "cell_type": "code",
      "execution_count": 149,
      "metadata": {
        "id": "X3K-zsiVs2_h"
      },
      "outputs": [],
      "source": [
        "temmin['Date'] = pd.to_datetime(temmin['Fecha']).dt.date\n",
        "temmin['Time'] = pd.to_datetime(temmin['Fecha']).dt.time"
      ]
    },
    {
      "cell_type": "code",
      "execution_count": 150,
      "metadata": {
        "id": "WXA3ixaiSjWc"
      },
      "outputs": [],
      "source": [
        "temmin['TemMinValue'] = temmin['Valor']"
      ]
    },
    {
      "cell_type": "markdown",
      "metadata": {
        "id": "Ki1R8doFtFR1"
      },
      "source": [
        "## Temperature max"
      ]
    },
    {
      "cell_type": "code",
      "execution_count": 151,
      "metadata": {
        "id": "T6gF0m2mtIbn"
      },
      "outputs": [],
      "source": [
        "temmax['Date'] = pd.to_datetime(temmax['Fecha']).dt.date\n",
        "temmax['Time'] = pd.to_datetime(temmax['Fecha']).dt.time"
      ]
    },
    {
      "cell_type": "code",
      "execution_count": 152,
      "metadata": {
        "id": "OfkiEEorSpqR"
      },
      "outputs": [],
      "source": [
        "temmax['TemMaxValue'] = temmax['Valor']"
      ]
    },
    {
      "cell_type": "markdown",
      "metadata": {
        "id": "HkZRWPbctPG9"
      },
      "source": [
        "## Wind Speed"
      ]
    },
    {
      "cell_type": "code",
      "execution_count": 153,
      "metadata": {
        "id": "MDk6PuMPtdml"
      },
      "outputs": [],
      "source": [
        "# velocidadviento['Date'] = pd.to_datetime(velocidadviento['Fecha']).dt.date\n",
        "# velocidadviento['Time'] = pd.to_datetime(velocidadviento['Fecha']).dt.time"
      ]
    },
    {
      "cell_type": "markdown",
      "metadata": {
        "id": "wsNURpMUtma0"
      },
      "source": [
        "## Humedad"
      ]
    },
    {
      "cell_type": "code",
      "execution_count": 154,
      "metadata": {
        "id": "v316ojkztow-"
      },
      "outputs": [],
      "source": [
        "humidity['Date'] = pd.to_datetime(humidity['Fecha']).dt.date\n",
        "humidity['Time'] = pd.to_datetime(humidity['Fecha']).dt.time"
      ]
    },
    {
      "cell_type": "code",
      "execution_count": 155,
      "metadata": {
        "id": "bHJ8Zcc0SzwO"
      },
      "outputs": [],
      "source": [
        "humidity['HumidityValue'] = humidity['Valor']"
      ]
    },
    {
      "cell_type": "markdown",
      "metadata": {
        "id": "jqiVIrhitutN"
      },
      "source": [
        "## Evaporación"
      ]
    },
    {
      "cell_type": "code",
      "execution_count": 156,
      "metadata": {
        "id": "CVUPEp22t1-m"
      },
      "outputs": [],
      "source": [
        "evaporation['Date'] = pd.to_datetime(evaporation['Fecha']).dt.date\n",
        "evaporation['Time'] = pd.to_datetime(evaporation['Fecha']).dt.time"
      ]
    },
    {
      "cell_type": "code",
      "execution_count": 157,
      "metadata": {
        "id": "YyKpXvECTAMQ"
      },
      "outputs": [],
      "source": [
        "evaporation['EvaporationValue'] = evaporation['Valor']"
      ]
    },
    {
      "cell_type": "markdown",
      "metadata": {
        "id": "dmYEl5vmt8kJ"
      },
      "source": [
        "## Precipitación"
      ]
    },
    {
      "cell_type": "code",
      "execution_count": 158,
      "metadata": {
        "id": "AXapLOF9t_37"
      },
      "outputs": [],
      "source": [
        "precipitation['Date'] = pd.to_datetime(precipitation['Fecha']).dt.date\n",
        "precipitation['Time'] = pd.to_datetime(precipitation['Fecha']).dt.time"
      ]
    },
    {
      "cell_type": "code",
      "execution_count": 159,
      "metadata": {
        "id": "dNDhxaSBTIet"
      },
      "outputs": [],
      "source": [
        "precipitation['PrecipitationValue'] = precipitation['Valor']"
      ]
    },
    {
      "cell_type": "markdown",
      "metadata": {
        "id": "2eeXtkJO-Cyg"
      },
      "source": [
        "## Speed Wind 10 Minutes"
      ]
    },
    {
      "cell_type": "code",
      "execution_count": 160,
      "metadata": {
        "colab": {
          "base_uri": "https://localhost:8080/"
        },
        "id": "k4pEaFFEH8tR",
        "outputId": "f05eafed-0b0e-4393-b3ef-5e3ea5e060d9"
      },
      "outputs": [
        {
          "output_type": "stream",
          "name": "stdout",
          "text": [
            "<class 'pandas.core.frame.DataFrame'>\n",
            "RangeIndex: 661715 entries, 0 to 661714\n",
            "Data columns (total 12 columns):\n",
            " #   Column             Non-Null Count   Dtype  \n",
            "---  ------             --------------   -----  \n",
            " 0   CodigoEstacion     661715 non-null  int64  \n",
            " 1   CodigoSensor       661715 non-null  int64  \n",
            " 2   FechaObservacion   661715 non-null  object \n",
            " 3   ValorObservado     661715 non-null  float64\n",
            " 4   NombreEstacion     661715 non-null  object \n",
            " 5   Departamento       661715 non-null  object \n",
            " 6   Municipio          661715 non-null  object \n",
            " 7   ZonaHidrografica   661715 non-null  object \n",
            " 8   Latitud            661715 non-null  float64\n",
            " 9   Longitud           661715 non-null  float64\n",
            " 10  DescripcionSensor  661715 non-null  object \n",
            " 11  UnidadMedida       661715 non-null  object \n",
            "dtypes: float64(3), int64(2), object(7)\n",
            "memory usage: 60.6+ MB\n"
          ]
        }
      ],
      "source": [
        "wind_speed.info()"
      ]
    },
    {
      "cell_type": "code",
      "execution_count": 161,
      "metadata": {
        "colab": {
          "base_uri": "https://localhost:8080/"
        },
        "id": "VMCdCxs-HfCO",
        "outputId": "1ced03f2-935d-4b55-fc15-44753bd0f974"
      },
      "outputs": [
        {
          "output_type": "stream",
          "name": "stdout",
          "text": [
            "Min: 01/01/2006 01:00:00 AM Max: 12/31/2021 12:50:00 PM\n"
          ]
        }
      ],
      "source": [
        "column = wind_speed[\"FechaObservacion\"]\n",
        "max_value = column.max()\n",
        "min_value = column.min()\n",
        "\n",
        "print(\"Min: \" + min_value + \" Max: \" + max_value)"
      ]
    },
    {
      "cell_type": "code",
      "execution_count": 162,
      "metadata": {
        "colab": {
          "base_uri": "https://localhost:8080/"
        },
        "id": "_xfFEPGBYsyp",
        "outputId": "0efdd47e-c81d-4b9c-ff7f-d211c77a582b"
      },
      "outputs": [
        {
          "output_type": "stream",
          "name": "stderr",
          "text": [
            "<ipython-input-162-387bc8da60b7>:2: FutureWarning: The default value of numeric_only in DataFrameGroupBy.mean is deprecated. In a future version, numeric_only will default to False. Either specify numeric_only or select only columns which should be valid for the function.\n",
            "  wind_speed = wind_speed.groupby(pd.Grouper(key='Date', freq='D')).mean()\n"
          ]
        }
      ],
      "source": [
        "wind_speed['Date'] = pd.to_datetime(wind_speed['FechaObservacion'])\n",
        "wind_speed = wind_speed.groupby(pd.Grouper(key='Date', freq='D')).mean()"
      ]
    },
    {
      "cell_type": "code",
      "execution_count": 163,
      "metadata": {
        "colab": {
          "base_uri": "https://localhost:8080/",
          "height": 455
        },
        "id": "-u3POvetQXLr",
        "outputId": "f242922b-7bbb-4593-adf4-4f641bb1c79b"
      },
      "outputs": [
        {
          "output_type": "execute_result",
          "data": {
            "text/plain": [
              "            CodigoEstacion  CodigoSensor  ValorObservado   Latitud   Longitud\n",
              "Date                                                                         \n",
              "2005-04-21      24035430.0         103.0        1.063889  5.745917 -73.116361\n",
              "2005-04-22      24035430.0         103.0        1.149306  5.745917 -73.116361\n",
              "2005-04-23      24035430.0         103.0        1.215972  5.745917 -73.116361\n",
              "2005-04-24      24035430.0         103.0        0.994444  5.745917 -73.116361\n",
              "2005-04-25      24035430.0         103.0        1.112319  5.745917 -73.116361\n",
              "...                    ...           ...             ...       ...        ...\n",
              "2022-06-24      24035430.0         103.0        1.048252  5.745917 -73.116361\n",
              "2022-06-25      24035430.0         103.0        0.865116  5.745917 -73.116361\n",
              "2022-06-26      24035430.0         103.0        0.820139  5.745917 -73.116361\n",
              "2022-06-27      24035430.0         103.0        1.246825  5.745917 -73.116361\n",
              "2022-06-28      24035430.0         103.0        1.045833  5.745917 -73.116361\n",
              "\n",
              "[6278 rows x 5 columns]"
            ],
            "text/html": [
              "\n",
              "  <div id=\"df-87dcd661-bd60-4d0d-b13e-07c7b23f6ed9\">\n",
              "    <div class=\"colab-df-container\">\n",
              "      <div>\n",
              "<style scoped>\n",
              "    .dataframe tbody tr th:only-of-type {\n",
              "        vertical-align: middle;\n",
              "    }\n",
              "\n",
              "    .dataframe tbody tr th {\n",
              "        vertical-align: top;\n",
              "    }\n",
              "\n",
              "    .dataframe thead th {\n",
              "        text-align: right;\n",
              "    }\n",
              "</style>\n",
              "<table border=\"1\" class=\"dataframe\">\n",
              "  <thead>\n",
              "    <tr style=\"text-align: right;\">\n",
              "      <th></th>\n",
              "      <th>CodigoEstacion</th>\n",
              "      <th>CodigoSensor</th>\n",
              "      <th>ValorObservado</th>\n",
              "      <th>Latitud</th>\n",
              "      <th>Longitud</th>\n",
              "    </tr>\n",
              "    <tr>\n",
              "      <th>Date</th>\n",
              "      <th></th>\n",
              "      <th></th>\n",
              "      <th></th>\n",
              "      <th></th>\n",
              "      <th></th>\n",
              "    </tr>\n",
              "  </thead>\n",
              "  <tbody>\n",
              "    <tr>\n",
              "      <th>2005-04-21</th>\n",
              "      <td>24035430.0</td>\n",
              "      <td>103.0</td>\n",
              "      <td>1.063889</td>\n",
              "      <td>5.745917</td>\n",
              "      <td>-73.116361</td>\n",
              "    </tr>\n",
              "    <tr>\n",
              "      <th>2005-04-22</th>\n",
              "      <td>24035430.0</td>\n",
              "      <td>103.0</td>\n",
              "      <td>1.149306</td>\n",
              "      <td>5.745917</td>\n",
              "      <td>-73.116361</td>\n",
              "    </tr>\n",
              "    <tr>\n",
              "      <th>2005-04-23</th>\n",
              "      <td>24035430.0</td>\n",
              "      <td>103.0</td>\n",
              "      <td>1.215972</td>\n",
              "      <td>5.745917</td>\n",
              "      <td>-73.116361</td>\n",
              "    </tr>\n",
              "    <tr>\n",
              "      <th>2005-04-24</th>\n",
              "      <td>24035430.0</td>\n",
              "      <td>103.0</td>\n",
              "      <td>0.994444</td>\n",
              "      <td>5.745917</td>\n",
              "      <td>-73.116361</td>\n",
              "    </tr>\n",
              "    <tr>\n",
              "      <th>2005-04-25</th>\n",
              "      <td>24035430.0</td>\n",
              "      <td>103.0</td>\n",
              "      <td>1.112319</td>\n",
              "      <td>5.745917</td>\n",
              "      <td>-73.116361</td>\n",
              "    </tr>\n",
              "    <tr>\n",
              "      <th>...</th>\n",
              "      <td>...</td>\n",
              "      <td>...</td>\n",
              "      <td>...</td>\n",
              "      <td>...</td>\n",
              "      <td>...</td>\n",
              "    </tr>\n",
              "    <tr>\n",
              "      <th>2022-06-24</th>\n",
              "      <td>24035430.0</td>\n",
              "      <td>103.0</td>\n",
              "      <td>1.048252</td>\n",
              "      <td>5.745917</td>\n",
              "      <td>-73.116361</td>\n",
              "    </tr>\n",
              "    <tr>\n",
              "      <th>2022-06-25</th>\n",
              "      <td>24035430.0</td>\n",
              "      <td>103.0</td>\n",
              "      <td>0.865116</td>\n",
              "      <td>5.745917</td>\n",
              "      <td>-73.116361</td>\n",
              "    </tr>\n",
              "    <tr>\n",
              "      <th>2022-06-26</th>\n",
              "      <td>24035430.0</td>\n",
              "      <td>103.0</td>\n",
              "      <td>0.820139</td>\n",
              "      <td>5.745917</td>\n",
              "      <td>-73.116361</td>\n",
              "    </tr>\n",
              "    <tr>\n",
              "      <th>2022-06-27</th>\n",
              "      <td>24035430.0</td>\n",
              "      <td>103.0</td>\n",
              "      <td>1.246825</td>\n",
              "      <td>5.745917</td>\n",
              "      <td>-73.116361</td>\n",
              "    </tr>\n",
              "    <tr>\n",
              "      <th>2022-06-28</th>\n",
              "      <td>24035430.0</td>\n",
              "      <td>103.0</td>\n",
              "      <td>1.045833</td>\n",
              "      <td>5.745917</td>\n",
              "      <td>-73.116361</td>\n",
              "    </tr>\n",
              "  </tbody>\n",
              "</table>\n",
              "<p>6278 rows × 5 columns</p>\n",
              "</div>\n",
              "      <button class=\"colab-df-convert\" onclick=\"convertToInteractive('df-87dcd661-bd60-4d0d-b13e-07c7b23f6ed9')\"\n",
              "              title=\"Convert this dataframe to an interactive table.\"\n",
              "              style=\"display:none;\">\n",
              "        \n",
              "  <svg xmlns=\"http://www.w3.org/2000/svg\" height=\"24px\"viewBox=\"0 0 24 24\"\n",
              "       width=\"24px\">\n",
              "    <path d=\"M0 0h24v24H0V0z\" fill=\"none\"/>\n",
              "    <path d=\"M18.56 5.44l.94 2.06.94-2.06 2.06-.94-2.06-.94-.94-2.06-.94 2.06-2.06.94zm-11 1L8.5 8.5l.94-2.06 2.06-.94-2.06-.94L8.5 2.5l-.94 2.06-2.06.94zm10 10l.94 2.06.94-2.06 2.06-.94-2.06-.94-.94-2.06-.94 2.06-2.06.94z\"/><path d=\"M17.41 7.96l-1.37-1.37c-.4-.4-.92-.59-1.43-.59-.52 0-1.04.2-1.43.59L10.3 9.45l-7.72 7.72c-.78.78-.78 2.05 0 2.83L4 21.41c.39.39.9.59 1.41.59.51 0 1.02-.2 1.41-.59l7.78-7.78 2.81-2.81c.8-.78.8-2.07 0-2.86zM5.41 20L4 18.59l7.72-7.72 1.47 1.35L5.41 20z\"/>\n",
              "  </svg>\n",
              "      </button>\n",
              "      \n",
              "  <style>\n",
              "    .colab-df-container {\n",
              "      display:flex;\n",
              "      flex-wrap:wrap;\n",
              "      gap: 12px;\n",
              "    }\n",
              "\n",
              "    .colab-df-convert {\n",
              "      background-color: #E8F0FE;\n",
              "      border: none;\n",
              "      border-radius: 50%;\n",
              "      cursor: pointer;\n",
              "      display: none;\n",
              "      fill: #1967D2;\n",
              "      height: 32px;\n",
              "      padding: 0 0 0 0;\n",
              "      width: 32px;\n",
              "    }\n",
              "\n",
              "    .colab-df-convert:hover {\n",
              "      background-color: #E2EBFA;\n",
              "      box-shadow: 0px 1px 2px rgba(60, 64, 67, 0.3), 0px 1px 3px 1px rgba(60, 64, 67, 0.15);\n",
              "      fill: #174EA6;\n",
              "    }\n",
              "\n",
              "    [theme=dark] .colab-df-convert {\n",
              "      background-color: #3B4455;\n",
              "      fill: #D2E3FC;\n",
              "    }\n",
              "\n",
              "    [theme=dark] .colab-df-convert:hover {\n",
              "      background-color: #434B5C;\n",
              "      box-shadow: 0px 1px 3px 1px rgba(0, 0, 0, 0.15);\n",
              "      filter: drop-shadow(0px 1px 2px rgba(0, 0, 0, 0.3));\n",
              "      fill: #FFFFFF;\n",
              "    }\n",
              "  </style>\n",
              "\n",
              "      <script>\n",
              "        const buttonEl =\n",
              "          document.querySelector('#df-87dcd661-bd60-4d0d-b13e-07c7b23f6ed9 button.colab-df-convert');\n",
              "        buttonEl.style.display =\n",
              "          google.colab.kernel.accessAllowed ? 'block' : 'none';\n",
              "\n",
              "        async function convertToInteractive(key) {\n",
              "          const element = document.querySelector('#df-87dcd661-bd60-4d0d-b13e-07c7b23f6ed9');\n",
              "          const dataTable =\n",
              "            await google.colab.kernel.invokeFunction('convertToInteractive',\n",
              "                                                     [key], {});\n",
              "          if (!dataTable) return;\n",
              "\n",
              "          const docLinkHtml = 'Like what you see? Visit the ' +\n",
              "            '<a target=\"_blank\" href=https://colab.research.google.com/notebooks/data_table.ipynb>data table notebook</a>'\n",
              "            + ' to learn more about interactive tables.';\n",
              "          element.innerHTML = '';\n",
              "          dataTable['output_type'] = 'display_data';\n",
              "          await google.colab.output.renderOutput(dataTable, element);\n",
              "          const docLink = document.createElement('div');\n",
              "          docLink.innerHTML = docLinkHtml;\n",
              "          element.appendChild(docLink);\n",
              "        }\n",
              "      </script>\n",
              "    </div>\n",
              "  </div>\n",
              "  "
            ]
          },
          "metadata": {},
          "execution_count": 163
        }
      ],
      "source": [
        "wind_speed"
      ]
    },
    {
      "cell_type": "code",
      "execution_count": 164,
      "metadata": {
        "id": "X340KYDVTajr"
      },
      "outputs": [],
      "source": [
        "wind_speed['WindSpeedValue'] = wind_speed['ValorObservado']"
      ]
    },
    {
      "cell_type": "code",
      "execution_count": 165,
      "metadata": {
        "colab": {
          "base_uri": "https://localhost:8080/"
        },
        "id": "6cJSM-_eb1ML",
        "outputId": "9f7a2d9b-fff4-4164-e07f-185e36d4933d"
      },
      "outputs": [
        {
          "output_type": "stream",
          "name": "stdout",
          "text": [
            "<class 'pandas.core.frame.DataFrame'>\n",
            "Index: 7291 entries, 2000-12-31 to 2021-12-31\n",
            "Data columns (total 10 columns):\n",
            " #   Column           Non-Null Count  Dtype  \n",
            "---  ------           --------------  -----  \n",
            " 0   CodigoEstacion   7291 non-null   float64\n",
            " 1   Latitud          7291 non-null   float64\n",
            " 2   Longitud         7291 non-null   float64\n",
            " 3   Altitud          7291 non-null   float64\n",
            " 4   FechaSuspension  0 non-null      float64\n",
            " 5   Valor            7291 non-null   float64\n",
            " 6   Grado            7291 non-null   float64\n",
            " 7   Calificador      0 non-null      float64\n",
            " 8   NivelAprobacion  7291 non-null   float64\n",
            " 9   SunValue         7291 non-null   float64\n",
            "dtypes: float64(10)\n",
            "memory usage: 626.6+ KB\n"
          ]
        }
      ],
      "source": [
        "sun.info()"
      ]
    },
    {
      "cell_type": "code",
      "execution_count": 166,
      "metadata": {
        "colab": {
          "base_uri": "https://localhost:8080/"
        },
        "id": "3wWtNDrlcMpc",
        "outputId": "1a4ac899-158b-4914-f071-a2b625ef6ca5"
      },
      "outputs": [
        {
          "output_type": "stream",
          "name": "stdout",
          "text": [
            "<class 'pandas.core.frame.DataFrame'>\n",
            "DatetimeIndex: 6278 entries, 2005-04-21 to 2022-06-28\n",
            "Freq: D\n",
            "Data columns (total 6 columns):\n",
            " #   Column          Non-Null Count  Dtype  \n",
            "---  ------          --------------  -----  \n",
            " 0   CodigoEstacion  5456 non-null   float64\n",
            " 1   CodigoSensor    5456 non-null   float64\n",
            " 2   ValorObservado  5456 non-null   float64\n",
            " 3   Latitud         5456 non-null   float64\n",
            " 4   Longitud        5456 non-null   float64\n",
            " 5   WindSpeedValue  5456 non-null   float64\n",
            "dtypes: float64(6)\n",
            "memory usage: 343.3 KB\n"
          ]
        }
      ],
      "source": [
        "wind_speed.info()"
      ]
    },
    {
      "cell_type": "code",
      "execution_count": 167,
      "metadata": {
        "colab": {
          "base_uri": "https://localhost:8080/"
        },
        "id": "ivqn11nZcXdp",
        "outputId": "3db332f2-c2ef-4d69-a628-29a854d4a0e6"
      },
      "outputs": [
        {
          "output_type": "stream",
          "name": "stdout",
          "text": [
            "<class 'pandas.core.frame.DataFrame'>\n",
            "RangeIndex: 1826 entries, 0 to 1825\n",
            "Data columns (total 24 columns):\n",
            " #   Column              Non-Null Count  Dtype  \n",
            "---  ------              --------------  -----  \n",
            " 0   CodigoEstacion      1826 non-null   int64  \n",
            " 1   NombreEstacion      1826 non-null   object \n",
            " 2   Latitud             1826 non-null   float64\n",
            " 3   Longitud            1826 non-null   float64\n",
            " 4   Altitud             1826 non-null   int64  \n",
            " 5   Categoria           1826 non-null   object \n",
            " 6   Entidad             1826 non-null   object \n",
            " 7   AreaOperativa       1826 non-null   object \n",
            " 8   Departamento        1826 non-null   object \n",
            " 9   Municipio           1826 non-null   object \n",
            " 10  FechaInstalacion    1826 non-null   object \n",
            " 11  FechaSuspension     0 non-null      float64\n",
            " 12  IdParametro         1826 non-null   object \n",
            " 13  Etiqueta            1826 non-null   object \n",
            " 14  DescripcionSerie    1826 non-null   object \n",
            " 15  Frecuencia          1826 non-null   object \n",
            " 16  Fecha               1826 non-null   object \n",
            " 17  Valor               1826 non-null   float64\n",
            " 18  Grado               1826 non-null   int64  \n",
            " 19  Calificador         0 non-null      float64\n",
            " 20  NivelAprobacion     1826 non-null   int64  \n",
            " 21  Date                1826 non-null   object \n",
            " 22  Time                1826 non-null   object \n",
            " 23  PrecipitationValue  1826 non-null   float64\n",
            "dtypes: float64(6), int64(4), object(14)\n",
            "memory usage: 342.5+ KB\n"
          ]
        }
      ],
      "source": [
        "precipitation.info()"
      ]
    },
    {
      "cell_type": "code",
      "execution_count": 168,
      "metadata": {
        "colab": {
          "base_uri": "https://localhost:8080/"
        },
        "id": "5u5s_2B_ciq8",
        "outputId": "dda4cc6c-9c44-4385-d947-f40b001480ae"
      },
      "outputs": [
        {
          "output_type": "stream",
          "name": "stdout",
          "text": [
            "<class 'pandas.core.frame.DataFrame'>\n",
            "RangeIndex: 5714 entries, 0 to 5713\n",
            "Data columns (total 24 columns):\n",
            " #   Column            Non-Null Count  Dtype  \n",
            "---  ------            --------------  -----  \n",
            " 0   CodigoEstacion    5714 non-null   int64  \n",
            " 1   NombreEstacion    5714 non-null   object \n",
            " 2   Latitud           5714 non-null   float64\n",
            " 3   Longitud          5714 non-null   float64\n",
            " 4   Altitud           5714 non-null   int64  \n",
            " 5   Categoria         5714 non-null   object \n",
            " 6   Entidad           5714 non-null   object \n",
            " 7   AreaOperativa     5714 non-null   object \n",
            " 8   Departamento      5714 non-null   object \n",
            " 9   Municipio         5714 non-null   object \n",
            " 10  FechaInstalacion  5714 non-null   object \n",
            " 11  FechaSuspension   0 non-null      float64\n",
            " 12  IdParametro       5714 non-null   object \n",
            " 13  Etiqueta          5714 non-null   object \n",
            " 14  DescripcionSerie  5714 non-null   object \n",
            " 15  Frecuencia        5714 non-null   object \n",
            " 16  Fecha             5714 non-null   object \n",
            " 17  Valor             5714 non-null   int64  \n",
            " 18  Grado             5714 non-null   int64  \n",
            " 19  Calificador       0 non-null      float64\n",
            " 20  NivelAprobacion   5714 non-null   int64  \n",
            " 21  Date              5714 non-null   object \n",
            " 22  Time              5714 non-null   object \n",
            " 23  HumidityValue     5714 non-null   int64  \n",
            "dtypes: float64(4), int64(6), object(14)\n",
            "memory usage: 1.0+ MB\n"
          ]
        }
      ],
      "source": [
        "humidity.info()"
      ]
    },
    {
      "cell_type": "code",
      "execution_count": 169,
      "metadata": {
        "colab": {
          "base_uri": "https://localhost:8080/"
        },
        "id": "lj_R6O8Wcv5_",
        "outputId": "66d0e371-6b99-4b1d-a66f-7f3a5f29cfcc"
      },
      "outputs": [
        {
          "output_type": "stream",
          "name": "stdout",
          "text": [
            "<class 'pandas.core.frame.DataFrame'>\n",
            "RangeIndex: 6072 entries, 0 to 6071\n",
            "Data columns (total 24 columns):\n",
            " #   Column            Non-Null Count  Dtype  \n",
            "---  ------            --------------  -----  \n",
            " 0   CodigoEstacion    6072 non-null   int64  \n",
            " 1   NombreEstacion    6072 non-null   object \n",
            " 2   Latitud           6072 non-null   float64\n",
            " 3   Longitud          6072 non-null   float64\n",
            " 4   Altitud           6072 non-null   int64  \n",
            " 5   Categoria         6072 non-null   object \n",
            " 6   Entidad           6072 non-null   object \n",
            " 7   AreaOperativa     6072 non-null   object \n",
            " 8   Departamento      6072 non-null   object \n",
            " 9   Municipio         6072 non-null   object \n",
            " 10  FechaInstalacion  6072 non-null   object \n",
            " 11  FechaSuspension   0 non-null      float64\n",
            " 12  IdParametro       6072 non-null   object \n",
            " 13  Etiqueta          6072 non-null   object \n",
            " 14  DescripcionSerie  6072 non-null   object \n",
            " 15  Frecuencia        6072 non-null   object \n",
            " 16  Fecha             6072 non-null   object \n",
            " 17  Valor             6072 non-null   int64  \n",
            " 18  Grado             6072 non-null   int64  \n",
            " 19  Calificador       0 non-null      float64\n",
            " 20  NivelAprobacion   6072 non-null   int64  \n",
            " 21  Date              6072 non-null   object \n",
            " 22  Time              6072 non-null   object \n",
            " 23  EvaporationValue  6072 non-null   int64  \n",
            "dtypes: float64(4), int64(6), object(14)\n",
            "memory usage: 1.1+ MB\n"
          ]
        }
      ],
      "source": [
        "evaporation.info()"
      ]
    },
    {
      "cell_type": "code",
      "execution_count": 170,
      "metadata": {
        "colab": {
          "base_uri": "https://localhost:8080/"
        },
        "id": "Nrt1XRkZdVsk",
        "outputId": "ee32bc30-ce9e-4da4-ca63-f1144bb4c400"
      },
      "outputs": [
        {
          "output_type": "stream",
          "name": "stdout",
          "text": [
            "<class 'pandas.core.frame.DataFrame'>\n",
            "RangeIndex: 7049 entries, 0 to 7048\n",
            "Data columns (total 24 columns):\n",
            " #   Column            Non-Null Count  Dtype  \n",
            "---  ------            --------------  -----  \n",
            " 0   CodigoEstacion    7049 non-null   int64  \n",
            " 1   NombreEstacion    7049 non-null   object \n",
            " 2   Latitud           7049 non-null   float64\n",
            " 3   Longitud          7049 non-null   float64\n",
            " 4   Altitud           7049 non-null   int64  \n",
            " 5   Categoria         7049 non-null   object \n",
            " 6   Entidad           7049 non-null   object \n",
            " 7   AreaOperativa     7049 non-null   object \n",
            " 8   Departamento      7049 non-null   object \n",
            " 9   Municipio         7049 non-null   object \n",
            " 10  FechaInstalacion  7049 non-null   object \n",
            " 11  FechaSuspension   0 non-null      float64\n",
            " 12  IdParametro       7049 non-null   object \n",
            " 13  Etiqueta          7049 non-null   object \n",
            " 14  DescripcionSerie  7049 non-null   object \n",
            " 15  Frecuencia        7049 non-null   object \n",
            " 16  Fecha             7049 non-null   object \n",
            " 17  Valor             7049 non-null   float64\n",
            " 18  Grado             7049 non-null   int64  \n",
            " 19  Calificador       0 non-null      float64\n",
            " 20  NivelAprobacion   7049 non-null   int64  \n",
            " 21  Date              7049 non-null   object \n",
            " 22  Time              7049 non-null   object \n",
            " 23  TemMinValue       7049 non-null   float64\n",
            "dtypes: float64(6), int64(4), object(14)\n",
            "memory usage: 1.3+ MB\n",
            "<class 'pandas.core.frame.DataFrame'>\n",
            "RangeIndex: 7054 entries, 0 to 7053\n",
            "Data columns (total 24 columns):\n",
            " #   Column            Non-Null Count  Dtype  \n",
            "---  ------            --------------  -----  \n",
            " 0   CodigoEstacion    7054 non-null   int64  \n",
            " 1   NombreEstacion    7054 non-null   object \n",
            " 2   Latitud           7054 non-null   float64\n",
            " 3   Longitud          7054 non-null   float64\n",
            " 4   Altitud           7054 non-null   int64  \n",
            " 5   Categoria         7054 non-null   object \n",
            " 6   Entidad           7054 non-null   object \n",
            " 7   AreaOperativa     7054 non-null   object \n",
            " 8   Departamento      7054 non-null   object \n",
            " 9   Municipio         7054 non-null   object \n",
            " 10  FechaInstalacion  7054 non-null   object \n",
            " 11  FechaSuspension   0 non-null      float64\n",
            " 12  IdParametro       7054 non-null   object \n",
            " 13  Etiqueta          7054 non-null   object \n",
            " 14  DescripcionSerie  7054 non-null   object \n",
            " 15  Frecuencia        7054 non-null   object \n",
            " 16  Fecha             7054 non-null   object \n",
            " 17  Valor             7054 non-null   float64\n",
            " 18  Grado             7054 non-null   int64  \n",
            " 19  Calificador       0 non-null      float64\n",
            " 20  NivelAprobacion   7054 non-null   int64  \n",
            " 21  Date              7054 non-null   object \n",
            " 22  Time              7054 non-null   object \n",
            " 23  TemMaxValue       7054 non-null   float64\n",
            "dtypes: float64(6), int64(4), object(14)\n",
            "memory usage: 1.3+ MB\n"
          ]
        }
      ],
      "source": [
        "temmin.info()\n",
        "temmax.info()"
      ]
    },
    {
      "cell_type": "code",
      "execution_count": 171,
      "metadata": {
        "colab": {
          "base_uri": "https://localhost:8080/"
        },
        "id": "MZJSNxMxoKYB",
        "outputId": "3448e4b8-0189-4581-e5ac-693f4bd5d484"
      },
      "outputs": [
        {
          "output_type": "stream",
          "name": "stdout",
          "text": [
            "<class 'pandas.core.frame.DataFrame'>\n",
            "RangeIndex: 10989979 entries, 0 to 10989978\n",
            "Data columns (total 12 columns):\n",
            " #   Column             Dtype  \n",
            "---  ------             -----  \n",
            " 0   CodigoEstacion     int64  \n",
            " 1   CodigoSensor       int64  \n",
            " 2   FechaObservacion   object \n",
            " 3   ValorObservado     float64\n",
            " 4   NombreEstacion     object \n",
            " 5   Departamento       object \n",
            " 6   Municipio          object \n",
            " 7   ZonaHidrografica   object \n",
            " 8   Latitud            float64\n",
            " 9   Longitud           float64\n",
            " 10  DescripcionSensor  object \n",
            " 11  UnidadMedida       object \n",
            "dtypes: float64(3), int64(2), object(7)\n",
            "memory usage: 1006.2+ MB\n"
          ]
        }
      ],
      "source": [
        "precipitation_open_data.info()"
      ]
    },
    {
      "cell_type": "code",
      "execution_count": 172,
      "metadata": {
        "colab": {
          "base_uri": "https://localhost:8080/"
        },
        "id": "JTblHIQUoYvQ",
        "outputId": "23f2d2a4-f9e3-41f9-cd86-d65221bcc053"
      },
      "outputs": [
        {
          "output_type": "stream",
          "name": "stdout",
          "text": [
            "Min: 01/01/2006 01:00:00 AM Max: 12/31/2021 12:55:00 PM\n"
          ]
        }
      ],
      "source": [
        "column_precipitation_open_data = precipitation_open_data[\"FechaObservacion\"]\n",
        "max_value_precipitation_open_data = column_precipitation_open_data.max()\n",
        "min_value_precipitation_open_data = column_precipitation_open_data.min()\n",
        "\n",
        "print(\"Min: \" + min_value_precipitation_open_data + \" Max: \" + max_value_precipitation_open_data)"
      ]
    },
    {
      "cell_type": "code",
      "execution_count": null,
      "metadata": {
        "id": "Eqk5KMv2ovsr"
      },
      "outputs": [],
      "source": [
        "precipitation_open_data['Date'] = pd.to_datetime(precipitation_open_data['FechaObservacion']).dt.date\n",
        "precipitation_open_data['Time'] = pd.to_datetime(precipitation_open_data['FechaObservacion']).dt.time\n",
        "precipitation_open_data = precipitation_open_data.groupby(['Date']).mean('ValorObservado')"
      ]
    },
    {
      "cell_type": "code",
      "execution_count": null,
      "metadata": {
        "id": "5pgoMJjWW-iU"
      },
      "outputs": [],
      "source": [
        "precipitation_open_data['PrecipitationValue'] = precipitation_open_data['ValorObservado']"
      ]
    },
    {
      "cell_type": "code",
      "execution_count": null,
      "metadata": {
        "id": "QSGDeAprtoyl"
      },
      "outputs": [],
      "source": [
        "precipitation_open_data.info()"
      ]
    },
    {
      "cell_type": "code",
      "execution_count": null,
      "metadata": {
        "id": "YkgdiCLzufBx"
      },
      "outputs": [],
      "source": [
        "sun.info()"
      ]
    },
    {
      "cell_type": "code",
      "execution_count": null,
      "metadata": {
        "id": "R0j6EG0Tv_1b"
      },
      "outputs": [],
      "source": [
        "humidity.Date.max()"
      ]
    },
    {
      "cell_type": "code",
      "execution_count": null,
      "metadata": {
        "id": "FRHqOQ6HwtK-"
      },
      "outputs": [],
      "source": [
        "humidity.Date.min()"
      ]
    },
    {
      "cell_type": "code",
      "execution_count": null,
      "metadata": {
        "id": "j3My2BIZygLU"
      },
      "outputs": [],
      "source": [
        "temmax.Date.max()"
      ]
    },
    {
      "cell_type": "code",
      "execution_count": null,
      "metadata": {
        "id": "Iz3cTNXDyjP8"
      },
      "outputs": [],
      "source": [
        "temmax.Date.min()"
      ]
    },
    {
      "cell_type": "code",
      "execution_count": null,
      "metadata": {
        "id": "H4igp0sbyu6-"
      },
      "outputs": [],
      "source": [
        "temmin.Date.max()"
      ]
    },
    {
      "cell_type": "code",
      "execution_count": null,
      "metadata": {
        "id": "OfpDCRQLyxk5"
      },
      "outputs": [],
      "source": [
        "temmin.Date.min()"
      ]
    },
    {
      "cell_type": "markdown",
      "metadata": {
        "id": "DRrrM9_vdYuD"
      },
      "source": [
        "# Build Data Set"
      ]
    },
    {
      "cell_type": "markdown",
      "metadata": {
        "id": "YRhbrdX9dlzF"
      },
      "source": [
        "## Sun"
      ]
    },
    {
      "cell_type": "code",
      "execution_count": null,
      "metadata": {
        "id": "AqMXL3nwdlgJ"
      },
      "outputs": [],
      "source": [
        "x_sun = sun[['SunValue']]"
      ]
    },
    {
      "cell_type": "code",
      "execution_count": null,
      "metadata": {
        "id": "QZLx9Si2mIc7"
      },
      "outputs": [],
      "source": [
        "x_sun.info()"
      ]
    },
    {
      "cell_type": "code",
      "execution_count": null,
      "metadata": {
        "id": "MN3bVHLn3HwW"
      },
      "outputs": [],
      "source": [
        "x_sun.describe()"
      ]
    },
    {
      "cell_type": "markdown",
      "metadata": {
        "id": "_IFcishido7u"
      },
      "source": [
        "## Temperature Min"
      ]
    },
    {
      "cell_type": "code",
      "execution_count": null,
      "metadata": {
        "id": "51pq7aBhdcLo"
      },
      "outputs": [],
      "source": [
        "x_temmin = temmin[['Date', 'TemMinValue']]"
      ]
    },
    {
      "cell_type": "code",
      "execution_count": null,
      "metadata": {
        "id": "4DLUikygmWyF"
      },
      "outputs": [],
      "source": [
        "x_temmin.info()"
      ]
    },
    {
      "cell_type": "code",
      "execution_count": null,
      "metadata": {
        "id": "9FK5Mwjl3Q-k"
      },
      "outputs": [],
      "source": [
        "x_temmin.describe()"
      ]
    },
    {
      "cell_type": "markdown",
      "metadata": {
        "id": "uK3Aid5Hdzc-"
      },
      "source": [
        "## Temperature Max"
      ]
    },
    {
      "cell_type": "code",
      "execution_count": null,
      "metadata": {
        "id": "IWi50w8bd02b"
      },
      "outputs": [],
      "source": [
        "x_temmax = temmax[['Date', 'TemMaxValue']]"
      ]
    },
    {
      "cell_type": "code",
      "execution_count": null,
      "metadata": {
        "id": "w3Y3Tw_Um-hT"
      },
      "outputs": [],
      "source": [
        "x_temmax.info()"
      ]
    },
    {
      "cell_type": "code",
      "execution_count": null,
      "metadata": {
        "id": "cj2iCeq73TC6"
      },
      "outputs": [],
      "source": [
        "x_temmax.describe()"
      ]
    },
    {
      "cell_type": "markdown",
      "metadata": {
        "id": "7XbqxyQBd1e_"
      },
      "source": [
        "## Humidity"
      ]
    },
    {
      "cell_type": "code",
      "execution_count": null,
      "metadata": {
        "id": "4xYz7_j8d47n"
      },
      "outputs": [],
      "source": [
        "x_humidity = humidity[['Date', 'HumidityValue']]"
      ]
    },
    {
      "cell_type": "code",
      "execution_count": null,
      "metadata": {
        "id": "bo19wjaunCZ8"
      },
      "outputs": [],
      "source": [
        "x_humidity.info()"
      ]
    },
    {
      "cell_type": "code",
      "execution_count": null,
      "metadata": {
        "id": "1oXhDeLQ3Vic"
      },
      "outputs": [],
      "source": [
        "x_humidity.describe()"
      ]
    },
    {
      "cell_type": "markdown",
      "metadata": {
        "id": "5Jectp4vd5ka"
      },
      "source": [
        "## Precipitation"
      ]
    },
    {
      "cell_type": "code",
      "execution_count": null,
      "metadata": {
        "id": "9gULnTSwd7GJ"
      },
      "outputs": [],
      "source": [
        "x_precipitation = precipitation_open_data['PrecipitationValue']"
      ]
    },
    {
      "cell_type": "code",
      "execution_count": null,
      "metadata": {
        "id": "pCESFUkPnUXw"
      },
      "outputs": [],
      "source": [
        "x_precipitation"
      ]
    },
    {
      "cell_type": "code",
      "execution_count": null,
      "metadata": {
        "id": "qaj-VJuC3ZKF"
      },
      "outputs": [],
      "source": [
        "x_precipitation.describe()"
      ]
    },
    {
      "cell_type": "markdown",
      "metadata": {
        "id": "m-Gd-uY7erMX"
      },
      "source": [
        "## Join Datasets"
      ]
    },
    {
      "cell_type": "code",
      "execution_count": null,
      "metadata": {
        "id": "3lbKS9HIppkH"
      },
      "outputs": [],
      "source": [
        "dataset = pd.merge(pd.merge(pd.merge(pd.merge(x_sun,x_temmin,on='Date'),x_temmax,on='Date'),x_humidity,on='Date'),x_precipitation,on='Date')"
      ]
    },
    {
      "cell_type": "markdown",
      "metadata": {
        "id": "uBFU8HhQ5H5S"
      },
      "source": [
        "## Bulding; Year, Month, Day"
      ]
    },
    {
      "cell_type": "code",
      "execution_count": null,
      "metadata": {
        "id": "QSM31mkXDND5"
      },
      "outputs": [],
      "source": [
        "dataset['year'] = pd.DatetimeIndex(dataset['Date']).year\n",
        "dataset['month'] = pd.DatetimeIndex(dataset['Date']).month\n",
        "dataset['day'] = pd.DatetimeIndex(dataset['Date']).day"
      ]
    },
    {
      "cell_type": "code",
      "execution_count": null,
      "metadata": {
        "id": "2_RN5C2ZDorP"
      },
      "outputs": [],
      "source": [
        "x = dataset[['year', 'month', 'day', 'TemMaxValue', 'TemMinValue', 'HumidityValue', 'SunValue']]\n",
        "x_MLR = dataset[['TemMaxValue', 'TemMinValue', 'HumidityValue', 'SunValue']]\n",
        "x_RF = dataset[['year', 'month','TemMinValue', 'HumidityValue', 'SunValue']]\n",
        "x_XGB = dataset[['year', 'month', 'TemMinValue', 'HumidityValue', 'SunValue']]\n",
        "x_MLP = dataset[['year', 'month', 'TemMinValue', 'HumidityValue', 'SunValue']]\n",
        "y = dataset[['PrecipitationValue']]"
      ]
    },
    {
      "cell_type": "code",
      "execution_count": null,
      "metadata": {
        "id": "8Lcys3C4Eek3"
      },
      "outputs": [],
      "source": [
        "x"
      ]
    },
    {
      "cell_type": "code",
      "execution_count": null,
      "metadata": {
        "id": "I4dBg9vEEh_8"
      },
      "outputs": [],
      "source": [
        "y"
      ]
    },
    {
      "cell_type": "code",
      "execution_count": null,
      "metadata": {
        "id": "PH82GcUimGjN"
      },
      "outputs": [],
      "source": [
        "y.describe()"
      ]
    },
    {
      "cell_type": "code",
      "execution_count": null,
      "metadata": {
        "id": "jVwW3TSdHeMa"
      },
      "outputs": [],
      "source": [
        "import seaborn as sns # Convention alias for Seaborn\n",
        "import matplotlib.pyplot as plt\n",
        "\n",
        "variables = ['year', 'month', 'day', 'SunValue', 'HumidityValue', 'TemMinValue','TemMaxValue']\n",
        "\n",
        "for var in variables:\n",
        "    plt.figure() # Creating a rectangle (figure) for each plot\n",
        "    # Regression Plot also by default includes\n",
        "    # best-fitting regression line\n",
        "    # which can be turned off via `fit_reg=False`\n",
        "    sns.regplot(x=var, y='PrecipitationValue', data=dataset).set(title=f'Regression plot of {var} and Petrol Consumption');"
      ]
    },
    {
      "cell_type": "code",
      "execution_count": null,
      "metadata": {
        "id": "hEqzK1cOQD4j"
      },
      "outputs": [],
      "source": [
        "correlations = dataset.corr()\n",
        "# annot=True displays the correlation values\n",
        "sns.heatmap(correlations, annot=True).set(title='Heatmap of Consumption Data - Pearson Correlations');"
      ]
    },
    {
      "cell_type": "markdown",
      "metadata": {
        "id": "J31iwmto3Ea1"
      },
      "source": [
        "# Bulding Models"
      ]
    },
    {
      "cell_type": "markdown",
      "metadata": {
        "id": "7HfxqYXX3J3l"
      },
      "source": [
        "## Multivariable Linear Regression (MLR)\n",
        "\n",
        "**Original equation:**\n",
        "$$ Daily rainfall = \u001fyear ∗ β1\n",
        " + (month ∗ β2) + \u001fday ∗ β3\n",
        " + (MaxTemp ∗ β4) + (MinTemp ∗ β5) + \u001fHumidity ∗ β6\n",
        " + (Evaporation ∗ β7) + (sunshine ∗ β8) + (windspeed ∗ β9) + εi $$\n",
        "\n",
        "**Equation adapted to data availability:**\n",
        "$$ Daily rainfall = \u001fyear ∗ β1\n",
        " + (month ∗ β2) + \u001fday ∗ β3\n",
        " + (MaxTemp ∗ β4) + (MinTemp ∗ β5) + \u001fHumidity ∗ β6\n",
        " + (sunshine ∗ β7) + εi $$"
      ]
    },
    {
      "cell_type": "code",
      "execution_count": null,
      "metadata": {
        "id": "H0vRGw2a3Wtb"
      },
      "outputs": [],
      "source": [
        "# importing train_test_split from sklearn\n",
        "from sklearn.model_selection import train_test_split\n",
        "# splitting the data\n",
        "x_train, x_test, y_train, y_test = train_test_split(x, y, test_size = 0.4, random_state = 42)\n",
        "x_MLR_train, x_MLR_test, y_train, y_test = train_test_split(x_MLR, y, test_size = 0.4, random_state = 42)\n",
        "x_RF_train, x_RF_test, y_train, y_test = train_test_split(x_RF, y, test_size = 0.4, random_state = 42)\n",
        "x_XGB_train, x_XGB_test, y_train, y_test = train_test_split(x_XGB, y, test_size = 0.4, random_state = 42)\n",
        "x_MLP_train, x_MLP_test, y_train, y_test = train_test_split(x_MLP, y, test_size = 0.4, random_state = 42)"
      ]
    },
    {
      "cell_type": "code",
      "execution_count": null,
      "metadata": {
        "id": "W8FfySBhSOJG"
      },
      "outputs": [],
      "source": [
        "y_test.shape"
      ]
    },
    {
      "cell_type": "code",
      "execution_count": null,
      "metadata": {
        "id": "aKn2Hzh0Entd"
      },
      "outputs": [],
      "source": [
        "# importing module\n",
        "from sklearn.linear_model import LinearRegression\n",
        "# creating an object of LinearRegression class\n",
        "model_MLR = LinearRegression()\n",
        "# fitting the training data\n",
        "model_MLR.fit(x_train,y_train)\n",
        "\n",
        "# creating an object of LinearRegression class\n",
        "model_MLR_2 = LinearRegression()\n",
        "# fitting the training data\n",
        "model_MLR_2.fit(x_MLR_train,y_train)"
      ]
    },
    {
      "cell_type": "code",
      "execution_count": null,
      "metadata": {
        "id": "vGhhDXAvFCa5"
      },
      "outputs": [],
      "source": [
        "y_prediction_MLR =  model_MLR.predict(x_test)\n",
        "y_prediction_MLR_2 =  model_MLR_2.predict(x_MLR_test)\n",
        "y_prediction_MLR"
      ]
    },
    {
      "cell_type": "code",
      "execution_count": null,
      "metadata": {
        "id": "4BA30q8vSwLo"
      },
      "outputs": [],
      "source": [
        "feature_names = x.columns\n",
        "model_coefficients_MLR = model_MLR.coef_.reshape(-1,1)\n",
        "\n",
        "coefficients_MLR_df = pd.DataFrame(data = model_coefficients_MLR, index = feature_names, columns = ['Coefficient value'])\n",
        "\n",
        "print(coefficients_MLR_df)"
      ]
    },
    {
      "cell_type": "code",
      "execution_count": null,
      "metadata": {
        "id": "-l6CjkaoVUKe"
      },
      "outputs": [],
      "source": [
        "y_prediction_MLR.shape"
      ]
    },
    {
      "cell_type": "code",
      "execution_count": null,
      "metadata": {
        "id": "aHA7OF9RVZDo"
      },
      "outputs": [],
      "source": [
        "y_test.shape"
      ]
    },
    {
      "cell_type": "code",
      "execution_count": null,
      "metadata": {
        "id": "GWsWzSGfU6OU"
      },
      "outputs": [],
      "source": [
        "results = pd.DataFrame({'Actual': [y_test], 'Predicted': [y_prediction_MLR]})\n",
        "print(results)"
      ]
    },
    {
      "cell_type": "code",
      "execution_count": null,
      "metadata": {
        "id": "asRsCgzsFPGe"
      },
      "outputs": [],
      "source": [
        "# importing r2_score module\n",
        "from sklearn.metrics import r2_score\n",
        "from sklearn.metrics import mean_squared_error\n",
        "import numpy as np"
      ]
    },
    {
      "cell_type": "code",
      "execution_count": null,
      "metadata": {
        "id": "GGKGjY2ZqXZC"
      },
      "outputs": [],
      "source": [
        "from sklearn.metrics import mean_absolute_error\n",
        "MAE_MLR = mean_absolute_error(y_test, y_prediction_MLR)\n",
        "MAE_MLR_2 = mean_absolute_error(y_test, y_prediction_MLR_2)\n",
        "print('Mean Absolute Error:', round(np.mean(MAE_MLR), 4), 'degrees.')\n",
        "print('Mean Absolute Error:', round(np.mean(MAE_MLR_2), 4), 'degrees.')\n"
      ]
    },
    {
      "cell_type": "code",
      "execution_count": null,
      "metadata": {
        "id": "iyZ3UqfOqURm"
      },
      "outputs": [],
      "source": [
        "from sklearn.metrics import mean_squared_error\n",
        "RMSE_MLR = mean_squared_error(y_test, y_prediction_MLR)\n",
        "RMSE_MLR_2 = mean_squared_error(y_test, y_prediction_MLR_2)\n",
        "print('Mean Squared Error:', round(np.mean(RMSE_MLR), 4), 'degrees.')\n",
        "print('Mean Squared Error:', round(np.mean(RMSE_MLR_2), 4), 'degrees.')"
      ]
    },
    {
      "cell_type": "code",
      "execution_count": null,
      "metadata": {
        "id": "3y_-ZRFyVTbZ"
      },
      "outputs": [],
      "source": [
        "R2_SCORE_MLR = r2_score(y_test, y_prediction_MLR)\n",
        "R2_SCORE_MLR_2 = r2_score(y_test, y_prediction_MLR_2)\n",
        "print('R2 Score:', round(R2_SCORE_MLR, 4), 'degrees.')\n",
        "print('R2 Score:', round(R2_SCORE_MLR_2, 4), 'degrees.')"
      ]
    },
    {
      "cell_type": "markdown",
      "metadata": {
        "id": "-Iju7IfIY7Db"
      },
      "source": [
        "## Random Forest"
      ]
    },
    {
      "cell_type": "code",
      "execution_count": null,
      "metadata": {
        "id": "F6RJ94JAbJOY"
      },
      "outputs": [],
      "source": [
        "# Import the model we are using\n",
        "from sklearn.ensemble import RandomForestRegressor\n",
        "# Instantiate model with 1000 decision trees\n",
        "model_RF = RandomForestRegressor(n_estimators = 1000, random_state = 42)\n",
        "model_RF_2 = RandomForestRegressor(n_estimators = 1000, random_state = 42)\n",
        "# Train the model on training data\n",
        "model_RF.fit(x_train, y_train);\n",
        "model_RF_2.fit(x_RF_train, y_train);"
      ]
    },
    {
      "cell_type": "code",
      "execution_count": null,
      "metadata": {
        "id": "NAhFJ-Y-bNVx"
      },
      "outputs": [],
      "source": [
        "# Use the forest's predict method on the test data\n",
        "y_prediction_RF = model_RF.predict(x_test)\n",
        "y_prediction_RF = y_prediction_RF.reshape(1574,1)\n",
        "\n",
        "y_prediction_RF_2 = model_RF_2.predict(x_RF_test)\n",
        "y_prediction_RF_2 = y_prediction_RF_2.reshape(1574,1)"
      ]
    },
    {
      "cell_type": "code",
      "execution_count": null,
      "metadata": {
        "id": "cfoEOUL2oW1z"
      },
      "outputs": [],
      "source": [
        "from sklearn.metrics import mean_absolute_error\n",
        "MAE_RF = mean_absolute_error(y_test, y_prediction_RF)\n",
        "MAE_RF_2 = mean_absolute_error(y_test, y_prediction_RF_2)\n",
        "\n",
        "print('Mean Absolute Error:', round(np.mean(MAE_RF), 4), 'degrees.')\n",
        "print('Mean Absolute Error:', round(np.mean(MAE_RF_2), 4), 'degrees.')"
      ]
    },
    {
      "cell_type": "code",
      "execution_count": null,
      "metadata": {
        "id": "MA37o5fYbSJ0"
      },
      "outputs": [],
      "source": [
        "from sklearn.metrics import mean_squared_error\n",
        "RMSE_RF = mean_squared_error(y_test, y_prediction_RF)\n",
        "RMSE_RF_2 = mean_squared_error(y_test, y_prediction_RF_2)\n",
        "print('Mean Squared Error:', round(np.mean(RMSE_RF), 4), 'degrees.')\n",
        "print('Mean Squared Error:', round(np.mean(RMSE_RF_2), 4), 'degrees.')"
      ]
    },
    {
      "cell_type": "code",
      "execution_count": null,
      "metadata": {
        "id": "tJ59gy5pVlcy"
      },
      "outputs": [],
      "source": [
        "R2_SCORE_RF = r2_score(y_test, y_prediction_RF)\n",
        "R2_SCORE_RF_2 = r2_score(y_test, y_prediction_RF_2)\n",
        "print('R2 Score:', round(R2_SCORE_RF, 4), 'degrees.')\n",
        "print('R2 Score:', round(R2_SCORE_RF_2, 4), 'degrees.')"
      ]
    },
    {
      "cell_type": "code",
      "execution_count": null,
      "metadata": {
        "id": "XEWXhOXJDKe2"
      },
      "outputs": [],
      "source": [
        "feature_names = x.columns\n",
        "model_fi_RF = model_RF.feature_importances_.reshape(-1,1)\n",
        "\n",
        "fi_RF_df = pd.DataFrame(data = model_fi_RF, index = feature_names, columns = ['Feature Importances Values'])\n",
        "\n",
        "print(fi_RF_df)"
      ]
    },
    {
      "cell_type": "markdown",
      "metadata": {
        "id": "BlrXI4NCZC4u"
      },
      "source": [
        "## XGBoots Gradient Decent"
      ]
    },
    {
      "cell_type": "code",
      "execution_count": null,
      "metadata": {
        "id": "6oCZQin5Zacb"
      },
      "outputs": [],
      "source": [
        "from sklearn.datasets import make_regression\n",
        "from sklearn.ensemble import GradientBoostingRegressor\n",
        "from sklearn.model_selection import train_test_split\n",
        "from sklearn.metrics import accuracy_score\n",
        "from sklearn.datasets import load_wine"
      ]
    },
    {
      "cell_type": "code",
      "execution_count": null,
      "metadata": {
        "id": "4aal8O-eZoCb"
      },
      "outputs": [],
      "source": [
        "model_XGB = GradientBoostingRegressor(\n",
        "                n_estimators = 150,\n",
        "                max_features=1.0,\n",
        "                random_state = 123\n",
        "             )\n",
        "\n",
        "model_XGB_2 = GradientBoostingRegressor(\n",
        "                n_estimators = 150,\n",
        "                max_features=1.0,\n",
        "                random_state = 123\n",
        "             )"
      ]
    },
    {
      "cell_type": "code",
      "execution_count": null,
      "metadata": {
        "id": "g89VbojeZq-5"
      },
      "outputs": [],
      "source": [
        "model_XGB.fit(x_train, y_train)\n",
        "model_XGB_2.fit(x_XGB_train, y_train)"
      ]
    },
    {
      "cell_type": "code",
      "execution_count": null,
      "metadata": {
        "id": "DJnxTozbZwFU"
      },
      "outputs": [],
      "source": [
        "y_prediction_XG = model_XGB.predict(x_test)\n",
        "y_prediction_XG_2 = model_XGB_2.predict(x_XGB_test)"
      ]
    },
    {
      "cell_type": "code",
      "execution_count": null,
      "metadata": {
        "id": "N8s6vMZJZyJr"
      },
      "outputs": [],
      "source": [
        "y_prediction_XG"
      ]
    },
    {
      "cell_type": "code",
      "execution_count": null,
      "metadata": {
        "id": "r4IUWA7ZZ2qS"
      },
      "outputs": [],
      "source": [
        "from sklearn.metrics import mean_absolute_error\n",
        "MAE_XGBOOTS = mean_absolute_error(y_test, y_prediction_XG)\n",
        "MAE_XGBOOTS_2 = mean_absolute_error(y_test, y_prediction_XG_2)\n",
        "\n",
        "print('Mean Absolute Error:', round(np.mean(MAE_XGBOOTS), 4), 'degrees.')\n",
        "print('Mean Absolute Error:', round(np.mean(MAE_XGBOOTS_2), 4), 'degrees.')"
      ]
    },
    {
      "cell_type": "code",
      "execution_count": null,
      "metadata": {
        "id": "QKIS7Xfeu1Mx"
      },
      "outputs": [],
      "source": [
        "from sklearn.metrics import mean_squared_error\n",
        "RMSE_XGBOOTS = mean_squared_error(y_test, y_prediction_XG)\n",
        "RMSE_XGBOOTS_2 = mean_squared_error(y_test, y_prediction_XG_2)\n",
        "print('Mean Squared Error:', round(np.mean(RMSE_XGBOOTS), 4), 'degrees.')\n",
        "print('Mean Squared Error:', round(np.mean(RMSE_XGBOOTS_2), 4), 'degrees.')"
      ]
    },
    {
      "cell_type": "code",
      "execution_count": null,
      "metadata": {
        "id": "EcM0rhfvVvwW"
      },
      "outputs": [],
      "source": [
        "R2_SCORE_XGBOOST = r2_score(y_test, y_prediction_XG)\n",
        "R2_SCORE_XGBOOST_2 = r2_score(y_test, y_prediction_XG_2)\n",
        "print('R2 Score:', round(R2_SCORE_XGBOOST, 4), 'degrees.')\n",
        "print('R2 Score:', round(R2_SCORE_XGBOOST_2, 4), 'degrees.')"
      ]
    },
    {
      "cell_type": "code",
      "execution_count": null,
      "metadata": {
        "id": "1L1wJ9oRwyvN"
      },
      "outputs": [],
      "source": [
        "# initialize list of lists\n",
        "data_test = [[2027,\t1,\t31,\t25.0,\t3.8,\t52,\t0.4714285714285714]]\n",
        "\n",
        "# Create the pandas DataFrame\n",
        "df_test = pd.DataFrame(data_test, columns=['year', 'month', 'day', 'TemMaxValue', 'TemMinValue', 'HumidityValue', 'SunValue'])\n",
        "y_pred_test = model_XGB.predict(df_test)"
      ]
    },
    {
      "cell_type": "code",
      "execution_count": null,
      "metadata": {
        "id": "65gcgnL7yRjk"
      },
      "outputs": [],
      "source": [
        "y_pred_test"
      ]
    },
    {
      "cell_type": "code",
      "execution_count": null,
      "metadata": {
        "id": "_s4NfxGUDYPR"
      },
      "outputs": [],
      "source": [
        "feature_names = x.columns\n",
        "model_fi_XGB = model_XGB.feature_importances_.reshape(-1,1)\n",
        "\n",
        "fi_XGB_df = pd.DataFrame(data = model_fi_XGB, index = feature_names, columns = ['Feature Importances Values'])\n",
        "\n",
        "print(fi_XGB_df)"
      ]
    },
    {
      "cell_type": "markdown",
      "metadata": {
        "id": "ej-Y0mG6tQGO"
      },
      "source": [
        "# Validation Models"
      ]
    },
    {
      "cell_type": "markdown",
      "metadata": {
        "id": "mFMcisEsteJq"
      },
      "source": [
        "## MLR"
      ]
    },
    {
      "cell_type": "code",
      "execution_count": null,
      "metadata": {
        "id": "rZ3X_oFTtVgO"
      },
      "outputs": [],
      "source": [
        "from sklearn.model_selection import cross_val_score\n",
        "from sklearn.metrics import accuracy_score\n",
        "from sklearn.model_selection import KFold\n",
        "from sklearn import metrics\n",
        "\n",
        "kf = KFold(n_splits=5)\n",
        "\n",
        "score_MLR = model_MLR.score(x_test,y_test)\n",
        "print(\"Accuracy: %.2f%%\" % (score_MLR*100.0))\n",
        "\n",
        "score_MLR_2 = model_MLR_2.score(x_MLR_test,y_test)\n",
        "print(\"Accuracy: %.2f%%\" % (score_MLR_2*100.0))"
      ]
    },
    {
      "cell_type": "code",
      "execution_count": null,
      "metadata": {
        "id": "jspIUmoXwVDJ"
      },
      "outputs": [],
      "source": [
        "# Gráfico\n",
        "fig, ax = plt.subplots(figsize=(7,5))\n",
        "ax.scatter(range(len(y_test)), y_test, color = \"black\", label = \"Original\")\n",
        "ax.plot(range(len(y_test)), y_prediction_MLR, color = \"red\", label = \"Predition\", linewidth=3)\n",
        "ax.set_title(\"Model Multi Linear Regression\")\n",
        "plt.legend();"
      ]
    },
    {
      "cell_type": "markdown",
      "metadata": {
        "id": "G9eIRgf1yOs4"
      },
      "source": [
        "## Random Forest"
      ]
    },
    {
      "cell_type": "code",
      "execution_count": null,
      "metadata": {
        "id": "5mZCGeV4yRCg"
      },
      "outputs": [],
      "source": [
        "from sklearn.model_selection import cross_val_score\n",
        "from sklearn.metrics import accuracy_score\n",
        "from sklearn.model_selection import KFold\n",
        "from sklearn import metrics\n",
        "\n",
        "score_RF = model_RF.score(x_test,y_test)\n",
        "print(\"Accuracy: %.2f%%\" % (score_RF*100.0))\n",
        "\n",
        "score_RF_2 = model_RF_2.score(x_RF_test,y_test)\n",
        "print(\"Accuracy: %.2f%%\" % (score_RF_2*100.0))"
      ]
    },
    {
      "cell_type": "code",
      "execution_count": null,
      "metadata": {
        "id": "XYlpE5oAwESP"
      },
      "outputs": [],
      "source": [
        "# Gráfico\n",
        "fig, ax = plt.subplots(figsize=(7,5))\n",
        "ax.scatter(range(len(y_test)), y_test, color = \"black\", label = \"Original\")\n",
        "ax.plot(range(len(y_test)), y_prediction_RF, color = \"red\", label = \"Predition\", linewidth=3)\n",
        "ax.set_title(\"Model Random Forest\")\n",
        "plt.legend();"
      ]
    },
    {
      "cell_type": "markdown",
      "metadata": {
        "id": "BEltBc6OydfP"
      },
      "source": [
        "# XGBoost Gradient Decent"
      ]
    },
    {
      "cell_type": "code",
      "execution_count": null,
      "metadata": {
        "id": "wmw7rKgayiM1"
      },
      "outputs": [],
      "source": [
        "from sklearn.model_selection import cross_val_score\n",
        "from sklearn.model_selection import KFold\n",
        "from sklearn import metrics\n",
        "\n",
        "score_XGB = model_XGB.score(x_test,y_test)\n",
        "print(\"Accuracy: %.2f%%\" % (score_XGB*100.0))\n",
        "\n",
        "score_XGB_2 = model_XGB_2.score(x_XGB_test,y_test)\n",
        "print(\"Accuracy: %.2f%%\" % (score_XGB_2*100.0))"
      ]
    },
    {
      "cell_type": "code",
      "execution_count": null,
      "metadata": {
        "id": "fYsD0eugteCP"
      },
      "outputs": [],
      "source": [
        "# Gráfico\n",
        "fig, ax = plt.subplots(figsize=(7,5))\n",
        "ax.scatter(range(len(y_test)), y_test, color = \"black\", label = \"Original\")\n",
        "ax.plot(range(len(y_test)), y_prediction_XG, color = \"red\", label = \"Predition\", linewidth=3)\n",
        "ax.set_title(\"Model XGBoost Gradient Descent\")\n",
        "plt.legend();"
      ]
    },
    {
      "cell_type": "code",
      "execution_count": null,
      "metadata": {
        "id": "sR4rGjP_uGji"
      },
      "outputs": [],
      "source": [
        "range(len(y_test))"
      ]
    },
    {
      "cell_type": "markdown",
      "metadata": {
        "id": "VnK5Lsvx0Jq7"
      },
      "source": [
        "# Neural Network Model"
      ]
    },
    {
      "cell_type": "code",
      "execution_count": null,
      "metadata": {
        "id": "YAsRla5iUvgI"
      },
      "outputs": [],
      "source": [
        "x.info()"
      ]
    },
    {
      "cell_type": "code",
      "execution_count": null,
      "metadata": {
        "id": "JZpI9oKP0URG"
      },
      "outputs": [],
      "source": [
        "import pandas as pd\n",
        "import numpy as np\n",
        "import matplotlib.pyplot as plt\n",
        "from sklearn.model_selection import train_test_split\n",
        "from sklearn.preprocessing import StandardScaler\n",
        "from sklearn.neural_network import MLPRegressor\n",
        "from sklearn import metrics\n",
        "from sklearn.model_selection import GridSearchCV\n",
        "\n",
        "sc=StandardScaler()\n",
        "scaler = sc.fit(x_train)\n",
        "x_train_scaled = scaler.transform(x_train)\n",
        "x_test_scaled = scaler.transform(x_test)\n",
        "\n",
        "x_train_scaled_2 = scaler.transform(x_train)\n",
        "x_test_scaled = scaler.transform(x_test)"
      ]
    },
    {
      "cell_type": "code",
      "source": [
        "model_MLP = MLPRegressor(hidden_layer_sizes=(150,100,50),\n",
        "                       max_iter = 300,activation = 'relu',\n",
        "                       solver = 'adam')\n",
        "\n",
        "model_MLP.fit(x_train_scaled, y_train.values.ravel())\n",
        "y_prediction_MLP = model_MLP.predict(x_test_scaled)\n",
        "\n",
        "model_MLP_2 = MLPRegressor(hidden_layer_sizes=(150,100,50),\n",
        "                       max_iter = 300,activation = 'relu',\n",
        "                       solver = 'adam')\n",
        "\n",
        "model_MLP_2.fit(x_train_scaled, y_train.values.ravel())\n",
        "y_prediction_MLP = model_MLP.predict(x_test_scaled)"
      ],
      "metadata": {
        "id": "bq2Fczhr_dp0"
      },
      "execution_count": null,
      "outputs": []
    },
    {
      "cell_type": "code",
      "source": [
        "y_test=y_test.reshape((len(y_test)))\n",
        "y_prediction_MLP=y_prediction_MLP.reshape((len(y_prediction_MLP)))"
      ],
      "metadata": {
        "id": "L26zvCGYCX2k"
      },
      "execution_count": null,
      "outputs": []
    },
    {
      "cell_type": "code",
      "source": [
        "df_temp = pd.DataFrame({'Actual': y_test, 'Predicted': y_prediction_MLP})\n",
        "df_temp.head()\n",
        "\n",
        "df_temp = df_temp.head(30)\n",
        "df_temp.plot(kind='bar',figsize=(10,6))\n",
        "plt.grid(which='major', linestyle='-', linewidth='0.5', color='green')\n",
        "plt.grid(which='minor', linestyle=':', linewidth='0.5', color='black')\n",
        "plt.show()\n",
        "\n",
        "print('Mean Absolute Error:', metrics.mean_absolute_error(y_test, y_prediction_MLP))  \n",
        "print('Mean Squared Error:', metrics.mean_squared_error(y_test, y_prediction_MLP))  \n",
        "print('Root Mean Squared Error:', np.sqrt(metrics.mean_squared_error(y_test, y_prediction_MLP)))\n",
        "\n",
        "plt.plot(y_prediction_MLP.loss_curve_)\n",
        "plt.title(\"Loss Curve\", fontsize=14)\n",
        "plt.xlabel('Iterations')\n",
        "plt.ylabel('Cost')\n",
        "plt.show()\n",
        "\n",
        "\n",
        "param_grid = {\n",
        "    'hidden_layer_sizes': [(150,100,50), (120,80,40), (100,50,30)],\n",
        "    'max_iter': [50, 100],\n",
        "    'activation': ['tanh', 'relu'],\n",
        "    'solver': ['sgd', 'adam'],\n",
        "    'alpha': [0.0001, 0.05],\n",
        "    'learning_rate': ['constant','adaptive'],\n",
        "}\n",
        "\n",
        "grid = GridSearchCV(y_prediction_MLP, param_grid, n_jobs= -1, cv=5)\n",
        "grid.fit(x_train_scaled, y_train)\n",
        "\n",
        "print(grid.best_params_) \n",
        "\n",
        "grid_predictions = grid.predict(x_test_scaled) \n",
        "\n",
        "df_temp2 = pd.DataFrame({'Actual': y_test, 'Predicted': grid_predictions})\n",
        "df_temp2.head()\n",
        "\n",
        "df_temp2 = df_temp2.head(30)\n",
        "df_temp2.plot(kind='bar',figsize=(10,6))\n",
        "plt.grid(which='major', linestyle='-', linewidth='0.5', color='green')\n",
        "plt.grid(which='minor', linestyle=':', linewidth='0.5', color='black')\n",
        "plt.show()\n",
        "\n",
        "print('Mean Absolute Error:', metrics.mean_absolute_error(y_test, grid_predictions))  \n",
        "print('Mean Squared Error:', metrics.mean_squared_error(y_test, grid_predictions))  \n",
        "print('Root Mean Squared Error:', np.sqrt(metrics.mean_squared_error(y_test, grid_predictions)))"
      ],
      "metadata": {
        "id": "TzupF2KiA45c"
      },
      "execution_count": null,
      "outputs": []
    },
    {
      "cell_type": "code",
      "source": [
        "score_MLP = model_MLP.score(x_test,y_test)\n",
        "print(\"Accuracy: %.2f%%\" % (score_XGB*100.0))\n",
        "\n",
        "score_MLP_2 = model_MLP_2.score(x_MLP_test,y_test)\n",
        "print(\"Accuracy: %.2f%%\" % (score_MLP_2*100.0))"
      ],
      "metadata": {
        "id": "FS7glOucI6Rx"
      },
      "execution_count": null,
      "outputs": []
    },
    {
      "cell_type": "code",
      "execution_count": null,
      "metadata": {
        "id": "rfn0pgG02f-6"
      },
      "outputs": [],
      "source": [
        "# Gráfico\n",
        "fig, ax = plt.subplots(figsize=(7,5))\n",
        "ax.scatter(range(len(y_test)), y_test, color = \"black\", label = \"Original\")\n",
        "ax.plot(range(len(y_test)), y_prediction_MLP, color = \"red\", label = \"Predition\", linewidth=3)\n",
        "ax.set_title(\"Model Neural Network\")\n",
        "plt.legend();"
      ]
    },
    {
      "cell_type": "code",
      "source": [
        "from sklearn.model_selection import cross_val_score\n",
        "from sklearn.model_selection import KFold\n",
        "from sklearn import metrics\n",
        "\n",
        "score_XGB = model_XGB.score(x_test,y_test)\n",
        "print(\"Accuracy: %.2f%%\" % (score_XGB*100.0))\n",
        "\n",
        "score_XGB_2 = model_XGB_2.score(x_XGB_test,y_test)\n",
        "print(\"Accuracy: %.2f%%\" % (score_XGB_2*100.0))"
      ],
      "metadata": {
        "id": "PuV5wJn0H6a3"
      },
      "execution_count": null,
      "outputs": []
    },
    {
      "cell_type": "code",
      "execution_count": null,
      "metadata": {
        "id": "5UKL4Iuu1nbk"
      },
      "outputs": [],
      "source": [
        "!pip install ppscore"
      ]
    },
    {
      "cell_type": "code",
      "source": [
        "import ppscore as pps"
      ],
      "metadata": {
        "id": "YXQCoXyBDZRK"
      },
      "execution_count": null,
      "outputs": []
    },
    {
      "cell_type": "code",
      "source": [
        "\n",
        "import warnings\n",
        "import numpy as np\n",
        "import pandas as pd\n",
        "import matplotlib.pyplot as plt\n",
        "import seaborn as sns\n",
        "from collections import Counter\n",
        "\n",
        "warnings.filterwarnings(\"ignore\")"
      ],
      "metadata": {
        "id": "5C2_vG6KDIK9"
      },
      "execution_count": null,
      "outputs": []
    },
    {
      "cell_type": "code",
      "source": [
        "dataset_pps = dataset[['SunValue', 'TemMinValue', 'TemMaxValue', 'HumidityValue', 'PrecipitationValue', 'year', 'month', 'day']].copy()"
      ],
      "metadata": {
        "id": "Z6PdHSxBTBtp"
      },
      "execution_count": null,
      "outputs": []
    },
    {
      "cell_type": "code",
      "source": [
        "import re\n",
        "\n",
        "dataset_pps = dataset_pps.astype(float)\n",
        "dataset_pps['SunValue'] = dataset_pps['SunValue'].astype(float)\n",
        "print(dataset_pps.dtypes)"
      ],
      "metadata": {
        "id": "GNCGTajyT09E"
      },
      "execution_count": null,
      "outputs": []
    },
    {
      "cell_type": "code",
      "source": [
        "dataset_pps"
      ],
      "metadata": {
        "id": "AOxN11bGUvd6"
      },
      "execution_count": null,
      "outputs": []
    },
    {
      "cell_type": "code",
      "source": [
        "# annot=True displays the correlation values\n",
        "sns.heatmap(dataset_pps.corr(),annot=True,fmt=\".2f\").set(title='Heatmap of Climatic Data - Predictive Power Score');"
      ],
      "metadata": {
        "id": "InMglXw0VFZR"
      },
      "execution_count": null,
      "outputs": []
    },
    {
      "cell_type": "code",
      "source": [
        "dataset_pps.info()"
      ],
      "metadata": {
        "id": "F5pA1aMsUIjP"
      },
      "execution_count": null,
      "outputs": []
    },
    {
      "cell_type": "code",
      "source": [
        "plt.figure(figsize=(16,12))\n",
        "correlations = pps.matrix(dataset_pps)\n",
        "sns.heatmap(correlations,annot=True).set(title='Heatmap of Climatic Data - Pearson Correlations');"
      ],
      "metadata": {
        "id": "9IYiF9rcDckK"
      },
      "execution_count": null,
      "outputs": []
    }
  ],
  "metadata": {
    "colab": {
      "provenance": [],
      "toc_visible": true,
      "include_colab_link": true
    },
    "kernelspec": {
      "display_name": "Python 3",
      "name": "python3"
    },
    "language_info": {
      "name": "python"
    }
  },
  "nbformat": 4,
  "nbformat_minor": 0
}